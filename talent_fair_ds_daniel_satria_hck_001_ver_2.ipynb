{
 "cells": [
  {
   "cell_type": "markdown",
   "metadata": {},
   "source": [
    "## 1. PROJECT BACKGROUND\n",
    "\n",
    "In this project, author will try to solve a problem from a data brough by MNC. The data consist of their internal information related to their Television programs. Therefore, author will pose a segmentation solution for its customer, thus clustering the customers/viewers.\n",
    "\n",
    "The goal of this projects is to see how is the distribution of the customers/viewers so we can give business solutions or ideas."
   ]
  },
  {
   "cell_type": "markdown",
   "metadata": {},
   "source": [
    "_____"
   ]
  },
  {
   "cell_type": "markdown",
   "metadata": {},
   "source": [
    "## 2. FEATURES EXPLANATION\n",
    "\n",
    "- viewers_id: contained information about viewers_id. There are several ids using UN- and using dynamic number generated\n",
    "- content_id: contained information about content_id. The ids are using dynamic number generated\n",
    "- hit_timestamp: contained information describes the time viewers carry out the process of reading per one article\n",
    "- user_type: describe user type based on registered user and anonymous user or unregistered\n",
    "- category_id: contained information about category_id. The ids are using dynamic number generated\n",
    "- tagging: describe the tagging per content_id\n",
    "- creator_id: describe content owner\n",
    "- category_name: describe the category name\n",
    "- viewers_birthdate: describe the birthdate of viewers\n",
    "- viewers_gender: describe the gender of viewers\n",
    "- viewers_region: describe the region of viewers\n"
   ]
  },
  {
   "cell_type": "markdown",
   "metadata": {},
   "source": [
    "_______"
   ]
  },
  {
   "cell_type": "markdown",
   "metadata": {},
   "source": [
    "## 3. IMPORT LIBRARIES"
   ]
  },
  {
   "cell_type": "code",
   "execution_count": 1,
   "metadata": {},
   "outputs": [],
   "source": [
    "import numpy as np\n",
    "import matplotlib.pyplot as plt\n",
    "import pandas as pd\n",
    "import seaborn as sns\n",
    "\n",
    "from sklearn.preprocessing import StandardScaler\n",
    "from sklearn.preprocessing import OrdinalEncoder\n",
    "from sklearn.preprocessing import OneHotEncoder\n",
    "\n",
    "from sklearn.decomposition import PCA\n",
    "from kmodes.kmodes import KModes"
   ]
  },
  {
   "cell_type": "markdown",
   "metadata": {},
   "source": [
    "___"
   ]
  },
  {
   "cell_type": "markdown",
   "metadata": {},
   "source": [
    "## 4. DATA LOADING"
   ]
  },
  {
   "cell_type": "markdown",
   "metadata": {},
   "source": [
    "4.1 Here I load the required data. Also, I show the first 5 and the last 5 of the data so we can briefly grasp how is the data."
   ]
  },
  {
   "cell_type": "code",
   "execution_count": 2,
   "metadata": {},
   "outputs": [
    {
     "data": {
      "text/html": [
       "<div>\n",
       "<style scoped>\n",
       "    .dataframe tbody tr th:only-of-type {\n",
       "        vertical-align: middle;\n",
       "    }\n",
       "\n",
       "    .dataframe tbody tr th {\n",
       "        vertical-align: top;\n",
       "    }\n",
       "\n",
       "    .dataframe thead th {\n",
       "        text-align: right;\n",
       "    }\n",
       "</style>\n",
       "<table border=\"1\" class=\"dataframe\">\n",
       "  <thead>\n",
       "    <tr style=\"text-align: right;\">\n",
       "      <th></th>\n",
       "      <th>Unnamed: 0</th>\n",
       "      <th>viewers_id</th>\n",
       "      <th>content_id</th>\n",
       "      <th>hit_timestamp</th>\n",
       "      <th>user_type</th>\n",
       "      <th>category_id</th>\n",
       "      <th>tagging</th>\n",
       "      <th>creator_id</th>\n",
       "      <th>category_name</th>\n",
       "      <th>viewers_birthdate</th>\n",
       "      <th>viewers_gender</th>\n",
       "      <th>viewers_region</th>\n",
       "    </tr>\n",
       "  </thead>\n",
       "  <tbody>\n",
       "    <tr>\n",
       "      <th>0</th>\n",
       "      <td>0</td>\n",
       "      <td>UN-RY8dNmQ</td>\n",
       "      <td>OC0RuX</td>\n",
       "      <td>2022-07-30</td>\n",
       "      <td>Anonymus User</td>\n",
       "      <td>23.0</td>\n",
       "      <td>[{\"tag_id\": \"l33saH\", \"tag_name\": \"nathalie-ho...</td>\n",
       "      <td>99jY83</td>\n",
       "      <td>Hiburan</td>\n",
       "      <td>NaN</td>\n",
       "      <td>NaN</td>\n",
       "      <td>NaN</td>\n",
       "    </tr>\n",
       "    <tr>\n",
       "      <th>1</th>\n",
       "      <td>1</td>\n",
       "      <td>UN-RY8dNmQ</td>\n",
       "      <td>OC0RuX</td>\n",
       "      <td>2022-07-30</td>\n",
       "      <td>Anonymus User</td>\n",
       "      <td>23.0</td>\n",
       "      <td>[{\"tag_id\": \"l33saH\", \"tag_name\": \"nathalie-ho...</td>\n",
       "      <td>99jY83</td>\n",
       "      <td>Hiburan</td>\n",
       "      <td>NaN</td>\n",
       "      <td>NaN</td>\n",
       "      <td>NaN</td>\n",
       "    </tr>\n",
       "    <tr>\n",
       "      <th>2</th>\n",
       "      <td>2</td>\n",
       "      <td>UN-b1g5Cc6</td>\n",
       "      <td>EsWkCd</td>\n",
       "      <td>2022-07-31</td>\n",
       "      <td>Anonymus User</td>\n",
       "      <td>23.0</td>\n",
       "      <td>[{\"tag_id\": \"Tw9Th4\", \"tag_name\": \"deddy-corbu...</td>\n",
       "      <td>99jY83</td>\n",
       "      <td>Hiburan</td>\n",
       "      <td>NaN</td>\n",
       "      <td>NaN</td>\n",
       "      <td>NaN</td>\n",
       "    </tr>\n",
       "    <tr>\n",
       "      <th>3</th>\n",
       "      <td>3</td>\n",
       "      <td>UN-b1g5Cc6</td>\n",
       "      <td>EsWkCd</td>\n",
       "      <td>2022-07-31</td>\n",
       "      <td>Anonymus User</td>\n",
       "      <td>23.0</td>\n",
       "      <td>[{\"tag_id\": \"Tw9Th4\", \"tag_name\": \"deddy-corbu...</td>\n",
       "      <td>99jY83</td>\n",
       "      <td>Hiburan</td>\n",
       "      <td>NaN</td>\n",
       "      <td>NaN</td>\n",
       "      <td>NaN</td>\n",
       "    </tr>\n",
       "    <tr>\n",
       "      <th>4</th>\n",
       "      <td>4</td>\n",
       "      <td>UN-kNqX0xJ</td>\n",
       "      <td>WMKZwi</td>\n",
       "      <td>2022-07-31</td>\n",
       "      <td>Anonymus User</td>\n",
       "      <td>23.0</td>\n",
       "      <td>[{\"tag_id\": \"MSDG2f\", \"tag_name\": \"valencia-ta...</td>\n",
       "      <td>99jY83</td>\n",
       "      <td>Hiburan</td>\n",
       "      <td>NaN</td>\n",
       "      <td>NaN</td>\n",
       "      <td>NaN</td>\n",
       "    </tr>\n",
       "  </tbody>\n",
       "</table>\n",
       "</div>"
      ],
      "text/plain": [
       "   Unnamed: 0  viewers_id content_id hit_timestamp      user_type  \\\n",
       "0           0  UN-RY8dNmQ     OC0RuX    2022-07-30  Anonymus User   \n",
       "1           1  UN-RY8dNmQ     OC0RuX    2022-07-30  Anonymus User   \n",
       "2           2  UN-b1g5Cc6     EsWkCd    2022-07-31  Anonymus User   \n",
       "3           3  UN-b1g5Cc6     EsWkCd    2022-07-31  Anonymus User   \n",
       "4           4  UN-kNqX0xJ     WMKZwi    2022-07-31  Anonymus User   \n",
       "\n",
       "   category_id                                            tagging creator_id  \\\n",
       "0         23.0  [{\"tag_id\": \"l33saH\", \"tag_name\": \"nathalie-ho...     99jY83   \n",
       "1         23.0  [{\"tag_id\": \"l33saH\", \"tag_name\": \"nathalie-ho...     99jY83   \n",
       "2         23.0  [{\"tag_id\": \"Tw9Th4\", \"tag_name\": \"deddy-corbu...     99jY83   \n",
       "3         23.0  [{\"tag_id\": \"Tw9Th4\", \"tag_name\": \"deddy-corbu...     99jY83   \n",
       "4         23.0  [{\"tag_id\": \"MSDG2f\", \"tag_name\": \"valencia-ta...     99jY83   \n",
       "\n",
       "  category_name viewers_birthdate viewers_gender viewers_region  \n",
       "0       Hiburan               NaN            NaN            NaN  \n",
       "1       Hiburan               NaN            NaN            NaN  \n",
       "2       Hiburan               NaN            NaN            NaN  \n",
       "3       Hiburan               NaN            NaN            NaN  \n",
       "4       Hiburan               NaN            NaN            NaN  "
      ]
     },
     "execution_count": 2,
     "metadata": {},
     "output_type": "execute_result"
    }
   ],
   "source": [
    "df = pd.read_csv('final_data.csv')\n",
    "df.head()"
   ]
  },
  {
   "cell_type": "code",
   "execution_count": 3,
   "metadata": {},
   "outputs": [
    {
     "data": {
      "text/html": [
       "<div>\n",
       "<style scoped>\n",
       "    .dataframe tbody tr th:only-of-type {\n",
       "        vertical-align: middle;\n",
       "    }\n",
       "\n",
       "    .dataframe tbody tr th {\n",
       "        vertical-align: top;\n",
       "    }\n",
       "\n",
       "    .dataframe thead th {\n",
       "        text-align: right;\n",
       "    }\n",
       "</style>\n",
       "<table border=\"1\" class=\"dataframe\">\n",
       "  <thead>\n",
       "    <tr style=\"text-align: right;\">\n",
       "      <th></th>\n",
       "      <th>Unnamed: 0</th>\n",
       "      <th>viewers_id</th>\n",
       "      <th>content_id</th>\n",
       "      <th>hit_timestamp</th>\n",
       "      <th>user_type</th>\n",
       "      <th>category_id</th>\n",
       "      <th>tagging</th>\n",
       "      <th>creator_id</th>\n",
       "      <th>category_name</th>\n",
       "      <th>viewers_birthdate</th>\n",
       "      <th>viewers_gender</th>\n",
       "      <th>viewers_region</th>\n",
       "    </tr>\n",
       "  </thead>\n",
       "  <tbody>\n",
       "    <tr>\n",
       "      <th>958542</th>\n",
       "      <td>958542</td>\n",
       "      <td>KTq08K</td>\n",
       "      <td>1BZ98E</td>\n",
       "      <td>2022-08-29</td>\n",
       "      <td>Register User</td>\n",
       "      <td>13.0</td>\n",
       "      <td>NaN</td>\n",
       "      <td>39jZ02</td>\n",
       "      <td>Humor</td>\n",
       "      <td>1987-11-05</td>\n",
       "      <td>Male</td>\n",
       "      <td>Jakarta</td>\n",
       "    </tr>\n",
       "    <tr>\n",
       "      <th>958543</th>\n",
       "      <td>958543</td>\n",
       "      <td>UN-eRISZYj</td>\n",
       "      <td>1BZ98E</td>\n",
       "      <td>2022-08-29</td>\n",
       "      <td>Anonymus User</td>\n",
       "      <td>13.0</td>\n",
       "      <td>NaN</td>\n",
       "      <td>39jZ02</td>\n",
       "      <td>Humor</td>\n",
       "      <td>NaN</td>\n",
       "      <td>NaN</td>\n",
       "      <td>NaN</td>\n",
       "    </tr>\n",
       "    <tr>\n",
       "      <th>958544</th>\n",
       "      <td>958544</td>\n",
       "      <td>KTq08K</td>\n",
       "      <td>1BZ98E</td>\n",
       "      <td>2022-08-29</td>\n",
       "      <td>Register User</td>\n",
       "      <td>13.0</td>\n",
       "      <td>NaN</td>\n",
       "      <td>39jZ02</td>\n",
       "      <td>Humor</td>\n",
       "      <td>1987-11-05</td>\n",
       "      <td>Male</td>\n",
       "      <td>Jakarta</td>\n",
       "    </tr>\n",
       "    <tr>\n",
       "      <th>958545</th>\n",
       "      <td>958545</td>\n",
       "      <td>UN-DHiHLsN</td>\n",
       "      <td>bDrGRd</td>\n",
       "      <td>2022-08-12</td>\n",
       "      <td>Anonymus User</td>\n",
       "      <td>13.0</td>\n",
       "      <td>[{\"tag_id\": \"D5mK4C\", \"tag_name\": \"dunia-polit...</td>\n",
       "      <td>99jY83</td>\n",
       "      <td>Humor</td>\n",
       "      <td>NaN</td>\n",
       "      <td>NaN</td>\n",
       "      <td>NaN</td>\n",
       "    </tr>\n",
       "    <tr>\n",
       "      <th>958546</th>\n",
       "      <td>958546</td>\n",
       "      <td>UN-DHiHLsN</td>\n",
       "      <td>bDrGRd</td>\n",
       "      <td>2022-08-12</td>\n",
       "      <td>Anonymus User</td>\n",
       "      <td>13.0</td>\n",
       "      <td>[{\"tag_id\": \"D5mK4C\", \"tag_name\": \"dunia-polit...</td>\n",
       "      <td>99jY83</td>\n",
       "      <td>Humor</td>\n",
       "      <td>NaN</td>\n",
       "      <td>NaN</td>\n",
       "      <td>NaN</td>\n",
       "    </tr>\n",
       "  </tbody>\n",
       "</table>\n",
       "</div>"
      ],
      "text/plain": [
       "        Unnamed: 0  viewers_id content_id hit_timestamp      user_type  \\\n",
       "958542      958542      KTq08K     1BZ98E    2022-08-29  Register User   \n",
       "958543      958543  UN-eRISZYj     1BZ98E    2022-08-29  Anonymus User   \n",
       "958544      958544      KTq08K     1BZ98E    2022-08-29  Register User   \n",
       "958545      958545  UN-DHiHLsN     bDrGRd    2022-08-12  Anonymus User   \n",
       "958546      958546  UN-DHiHLsN     bDrGRd    2022-08-12  Anonymus User   \n",
       "\n",
       "        category_id                                            tagging  \\\n",
       "958542         13.0                                                NaN   \n",
       "958543         13.0                                                NaN   \n",
       "958544         13.0                                                NaN   \n",
       "958545         13.0  [{\"tag_id\": \"D5mK4C\", \"tag_name\": \"dunia-polit...   \n",
       "958546         13.0  [{\"tag_id\": \"D5mK4C\", \"tag_name\": \"dunia-polit...   \n",
       "\n",
       "       creator_id category_name viewers_birthdate viewers_gender  \\\n",
       "958542     39jZ02         Humor        1987-11-05           Male   \n",
       "958543     39jZ02         Humor               NaN            NaN   \n",
       "958544     39jZ02         Humor        1987-11-05           Male   \n",
       "958545     99jY83         Humor               NaN            NaN   \n",
       "958546     99jY83         Humor               NaN            NaN   \n",
       "\n",
       "       viewers_region  \n",
       "958542        Jakarta  \n",
       "958543            NaN  \n",
       "958544        Jakarta  \n",
       "958545            NaN  \n",
       "958546            NaN  "
      ]
     },
     "execution_count": 3,
     "metadata": {},
     "output_type": "execute_result"
    }
   ],
   "source": [
    "df.tail()"
   ]
  },
  {
   "cell_type": "markdown",
   "metadata": {},
   "source": [
    "____"
   ]
  },
  {
   "cell_type": "markdown",
   "metadata": {},
   "source": [
    "## 5. EXPLORATORY DATA ANALYST"
   ]
  },
  {
   "cell_type": "markdown",
   "metadata": {},
   "source": [
    "1. Checking the shape of the data. There are 958547 rows and 12 column."
   ]
  },
  {
   "cell_type": "code",
   "execution_count": 4,
   "metadata": {},
   "outputs": [
    {
     "data": {
      "text/plain": [
       "(958547, 12)"
      ]
     },
     "execution_count": 4,
     "metadata": {},
     "output_type": "execute_result"
    }
   ],
   "source": [
    "df.shape"
   ]
  },
  {
   "cell_type": "markdown",
   "metadata": {},
   "source": [
    "2. Checking general information of the data.\n",
    "\n",
    "- We can see some columns have several missing data.\n",
    "- The type of the data is integers, float, and object."
   ]
  },
  {
   "cell_type": "code",
   "execution_count": 5,
   "metadata": {},
   "outputs": [
    {
     "name": "stdout",
     "output_type": "stream",
     "text": [
      "<class 'pandas.core.frame.DataFrame'>\n",
      "RangeIndex: 958547 entries, 0 to 958546\n",
      "Data columns (total 12 columns):\n",
      " #   Column             Non-Null Count   Dtype  \n",
      "---  ------             --------------   -----  \n",
      " 0   Unnamed: 0         958547 non-null  int64  \n",
      " 1   viewers_id         958547 non-null  object \n",
      " 2   content_id         958547 non-null  object \n",
      " 3   hit_timestamp      958547 non-null  object \n",
      " 4   user_type          958547 non-null  object \n",
      " 5   category_id        958547 non-null  float64\n",
      " 6   tagging            920275 non-null  object \n",
      " 7   creator_id         958547 non-null  object \n",
      " 8   category_name      958547 non-null  object \n",
      " 9   viewers_birthdate  4115 non-null    object \n",
      " 10  viewers_gender     4115 non-null    object \n",
      " 11  viewers_region     3988 non-null    object \n",
      "dtypes: float64(1), int64(1), object(10)\n",
      "memory usage: 87.8+ MB\n"
     ]
    }
   ],
   "source": [
    "df.info()"
   ]
  },
  {
   "cell_type": "markdown",
   "metadata": {},
   "source": [
    "3. Checking missing value\n",
    "- As we can see there are several missing values in the data.\n",
    "- Later, we can exclude the last three columns since they have more missing data than non-missing data.\n",
    "- In tagging column, since the quantities no more than ten percent, we can delete the rows with missing data."
   ]
  },
  {
   "cell_type": "code",
   "execution_count": 6,
   "metadata": {},
   "outputs": [
    {
     "data": {
      "text/plain": [
       "Unnamed: 0                0\n",
       "viewers_id                0\n",
       "content_id                0\n",
       "hit_timestamp             0\n",
       "user_type                 0\n",
       "category_id               0\n",
       "tagging               38272\n",
       "creator_id                0\n",
       "category_name             0\n",
       "viewers_birthdate    954432\n",
       "viewers_gender       954432\n",
       "viewers_region       954559\n",
       "dtype: int64"
      ]
     },
     "execution_count": 6,
     "metadata": {},
     "output_type": "execute_result"
    }
   ],
   "source": [
    "df.isnull().sum()"
   ]
  },
  {
   "cell_type": "markdown",
   "metadata": {},
   "source": [
    "4. Checking duplicated value\n",
    "- There is no duplicated value detected so far."
   ]
  },
  {
   "cell_type": "code",
   "execution_count": 7,
   "metadata": {},
   "outputs": [
    {
     "data": {
      "text/plain": [
       "0"
      ]
     },
     "execution_count": 7,
     "metadata": {},
     "output_type": "execute_result"
    }
   ],
   "source": [
    "df.duplicated().sum()"
   ]
  },
  {
   "cell_type": "markdown",
   "metadata": {},
   "source": [
    "5. Checking unique values\n",
    "- Here we check the unique values in the columns."
   ]
  },
  {
   "cell_type": "code",
   "execution_count": 8,
   "metadata": {},
   "outputs": [
    {
     "name": "stdout",
     "output_type": "stream",
     "text": [
      "viewers_id unique values :  54632\n",
      "content_id unique values :  24097\n",
      "user_type unique values :  2\n",
      "category_id unique values :  18\n",
      "creator_id unique values :  565\n",
      "category_name unique values :  18\n",
      "tagging unique values :  18863\n"
     ]
    }
   ],
   "source": [
    "print('viewers_id unique values : ', df.viewers_id.nunique())\n",
    "print('content_id unique values : ', df.content_id.nunique())\n",
    "print('user_type unique values : ', df.user_type.nunique())\n",
    "print('category_id unique values : ', df.category_id.nunique())\n",
    "print('creator_id unique values : ', df.creator_id.nunique())\n",
    "print('category_name unique values : ', df.category_name.nunique())\n",
    "print('tagging unique values : ', df.tagging.nunique())"
   ]
  },
  {
   "cell_type": "markdown",
   "metadata": {},
   "source": [
    "6. Deleting missing values and drop columns that contain many missing values\n",
    "- Deleting the first and the last three columns.\n",
    "- The last three columns deleted with previous mentioned reason.\n",
    "- The first column deleted since it's just the index.\n",
    "- Here also we drop missing values."
   ]
  },
  {
   "cell_type": "code",
   "execution_count": 9,
   "metadata": {},
   "outputs": [
    {
     "data": {
      "text/plain": [
       "viewers_id       0\n",
       "content_id       0\n",
       "hit_timestamp    0\n",
       "user_type        0\n",
       "category_id      0\n",
       "tagging          0\n",
       "creator_id       0\n",
       "category_name    0\n",
       "dtype: int64"
      ]
     },
     "execution_count": 9,
     "metadata": {},
     "output_type": "execute_result"
    }
   ],
   "source": [
    "df_new = df.copy()\n",
    "df_new.drop(columns=['Unnamed: 0', 'viewers_birthdate', 'viewers_gender', 'viewers_region'], inplace=True)\n",
    "df_new.dropna(inplace=True)\n",
    "df_new.isnull().sum()"
   ]
  },
  {
   "cell_type": "markdown",
   "metadata": {},
   "source": [
    "7. Rechecking the data"
   ]
  },
  {
   "cell_type": "code",
   "execution_count": 10,
   "metadata": {},
   "outputs": [
    {
     "name": "stdout",
     "output_type": "stream",
     "text": [
      "<class 'pandas.core.frame.DataFrame'>\n",
      "Int64Index: 920275 entries, 0 to 958546\n",
      "Data columns (total 8 columns):\n",
      " #   Column         Non-Null Count   Dtype  \n",
      "---  ------         --------------   -----  \n",
      " 0   viewers_id     920275 non-null  object \n",
      " 1   content_id     920275 non-null  object \n",
      " 2   hit_timestamp  920275 non-null  object \n",
      " 3   user_type      920275 non-null  object \n",
      " 4   category_id    920275 non-null  float64\n",
      " 5   tagging        920275 non-null  object \n",
      " 6   creator_id     920275 non-null  object \n",
      " 7   category_name  920275 non-null  object \n",
      "dtypes: float64(1), object(7)\n",
      "memory usage: 63.2+ MB\n"
     ]
    }
   ],
   "source": [
    "df_new.info()"
   ]
  },
  {
   "cell_type": "markdown",
   "metadata": {},
   "source": [
    "8. Checking value in the viewers_id column\n",
    "- Since the first two values in the viewers_id column have the samme values, we need to check how is the real data in the column.\n",
    "- It seems that the columns with 'RY8dNmQ' ID have two duplicated data."
   ]
  },
  {
   "cell_type": "code",
   "execution_count": 11,
   "metadata": {},
   "outputs": [
    {
     "data": {
      "text/html": [
       "<div>\n",
       "<style scoped>\n",
       "    .dataframe tbody tr th:only-of-type {\n",
       "        vertical-align: middle;\n",
       "    }\n",
       "\n",
       "    .dataframe tbody tr th {\n",
       "        vertical-align: top;\n",
       "    }\n",
       "\n",
       "    .dataframe thead th {\n",
       "        text-align: right;\n",
       "    }\n",
       "</style>\n",
       "<table border=\"1\" class=\"dataframe\">\n",
       "  <thead>\n",
       "    <tr style=\"text-align: right;\">\n",
       "      <th></th>\n",
       "      <th>viewers_id</th>\n",
       "      <th>content_id</th>\n",
       "      <th>hit_timestamp</th>\n",
       "      <th>user_type</th>\n",
       "      <th>category_id</th>\n",
       "      <th>tagging</th>\n",
       "      <th>creator_id</th>\n",
       "      <th>category_name</th>\n",
       "    </tr>\n",
       "  </thead>\n",
       "  <tbody>\n",
       "    <tr>\n",
       "      <th>0</th>\n",
       "      <td>UN-RY8dNmQ</td>\n",
       "      <td>OC0RuX</td>\n",
       "      <td>2022-07-30</td>\n",
       "      <td>Anonymus User</td>\n",
       "      <td>23.0</td>\n",
       "      <td>[{\"tag_id\": \"l33saH\", \"tag_name\": \"nathalie-ho...</td>\n",
       "      <td>99jY83</td>\n",
       "      <td>Hiburan</td>\n",
       "    </tr>\n",
       "    <tr>\n",
       "      <th>1</th>\n",
       "      <td>UN-RY8dNmQ</td>\n",
       "      <td>OC0RuX</td>\n",
       "      <td>2022-07-30</td>\n",
       "      <td>Anonymus User</td>\n",
       "      <td>23.0</td>\n",
       "      <td>[{\"tag_id\": \"l33saH\", \"tag_name\": \"nathalie-ho...</td>\n",
       "      <td>99jY83</td>\n",
       "      <td>Hiburan</td>\n",
       "    </tr>\n",
       "    <tr>\n",
       "      <th>231078</th>\n",
       "      <td>UN-RY8dNmQ</td>\n",
       "      <td>jja1Qj</td>\n",
       "      <td>2022-07-31</td>\n",
       "      <td>Anonymus User</td>\n",
       "      <td>22.0</td>\n",
       "      <td>[{\"tag_id\": \"Db3xSx\", \"tag_name\": \"parto-patri...</td>\n",
       "      <td>99jY83</td>\n",
       "      <td>Gaya Hidup</td>\n",
       "    </tr>\n",
       "    <tr>\n",
       "      <th>231081</th>\n",
       "      <td>UN-RY8dNmQ</td>\n",
       "      <td>jja1Qj</td>\n",
       "      <td>2022-07-31</td>\n",
       "      <td>Anonymus User</td>\n",
       "      <td>22.0</td>\n",
       "      <td>[{\"tag_id\": \"Db3xSx\", \"tag_name\": \"parto-patri...</td>\n",
       "      <td>99jY83</td>\n",
       "      <td>Gaya Hidup</td>\n",
       "    </tr>\n",
       "  </tbody>\n",
       "</table>\n",
       "</div>"
      ],
      "text/plain": [
       "        viewers_id content_id hit_timestamp      user_type  category_id  \\\n",
       "0       UN-RY8dNmQ     OC0RuX    2022-07-30  Anonymus User         23.0   \n",
       "1       UN-RY8dNmQ     OC0RuX    2022-07-30  Anonymus User         23.0   \n",
       "231078  UN-RY8dNmQ     jja1Qj    2022-07-31  Anonymus User         22.0   \n",
       "231081  UN-RY8dNmQ     jja1Qj    2022-07-31  Anonymus User         22.0   \n",
       "\n",
       "                                                  tagging creator_id  \\\n",
       "0       [{\"tag_id\": \"l33saH\", \"tag_name\": \"nathalie-ho...     99jY83   \n",
       "1       [{\"tag_id\": \"l33saH\", \"tag_name\": \"nathalie-ho...     99jY83   \n",
       "231078  [{\"tag_id\": \"Db3xSx\", \"tag_name\": \"parto-patri...     99jY83   \n",
       "231081  [{\"tag_id\": \"Db3xSx\", \"tag_name\": \"parto-patri...     99jY83   \n",
       "\n",
       "       category_name  \n",
       "0            Hiburan  \n",
       "1            Hiburan  \n",
       "231078    Gaya Hidup  \n",
       "231081    Gaya Hidup  "
      ]
     },
     "execution_count": 11,
     "metadata": {},
     "output_type": "execute_result"
    }
   ],
   "source": [
    "df_new[df_new['viewers_id'] == 'UN-RY8dNmQ']"
   ]
  },
  {
   "cell_type": "markdown",
   "metadata": {},
   "source": [
    "9. Further Checking value in the viewers_id column\n",
    "- For deeper investigation, we need to check viewers column again, now with ID 'UN-b1g5Cc6'\n",
    "- It seems that there are many duplicated data."
   ]
  },
  {
   "cell_type": "code",
   "execution_count": 12,
   "metadata": {},
   "outputs": [
    {
     "data": {
      "text/html": [
       "<div>\n",
       "<style scoped>\n",
       "    .dataframe tbody tr th:only-of-type {\n",
       "        vertical-align: middle;\n",
       "    }\n",
       "\n",
       "    .dataframe tbody tr th {\n",
       "        vertical-align: top;\n",
       "    }\n",
       "\n",
       "    .dataframe thead th {\n",
       "        text-align: right;\n",
       "    }\n",
       "</style>\n",
       "<table border=\"1\" class=\"dataframe\">\n",
       "  <thead>\n",
       "    <tr style=\"text-align: right;\">\n",
       "      <th></th>\n",
       "      <th>viewers_id</th>\n",
       "      <th>content_id</th>\n",
       "      <th>hit_timestamp</th>\n",
       "      <th>user_type</th>\n",
       "      <th>category_id</th>\n",
       "      <th>tagging</th>\n",
       "      <th>creator_id</th>\n",
       "      <th>category_name</th>\n",
       "    </tr>\n",
       "  </thead>\n",
       "  <tbody>\n",
       "    <tr>\n",
       "      <th>2</th>\n",
       "      <td>UN-b1g5Cc6</td>\n",
       "      <td>EsWkCd</td>\n",
       "      <td>2022-07-31</td>\n",
       "      <td>Anonymus User</td>\n",
       "      <td>23.0</td>\n",
       "      <td>[{\"tag_id\": \"Tw9Th4\", \"tag_name\": \"deddy-corbu...</td>\n",
       "      <td>99jY83</td>\n",
       "      <td>Hiburan</td>\n",
       "    </tr>\n",
       "    <tr>\n",
       "      <th>3</th>\n",
       "      <td>UN-b1g5Cc6</td>\n",
       "      <td>EsWkCd</td>\n",
       "      <td>2022-07-31</td>\n",
       "      <td>Anonymus User</td>\n",
       "      <td>23.0</td>\n",
       "      <td>[{\"tag_id\": \"Tw9Th4\", \"tag_name\": \"deddy-corbu...</td>\n",
       "      <td>99jY83</td>\n",
       "      <td>Hiburan</td>\n",
       "    </tr>\n",
       "    <tr>\n",
       "      <th>8</th>\n",
       "      <td>UN-b1g5Cc6</td>\n",
       "      <td>7pnFpi</td>\n",
       "      <td>2022-07-31</td>\n",
       "      <td>Anonymus User</td>\n",
       "      <td>23.0</td>\n",
       "      <td>[{\"tag_id\": \"A7hdu3\", \"tag_name\": \"artis-indon...</td>\n",
       "      <td>39jZ33</td>\n",
       "      <td>Hiburan</td>\n",
       "    </tr>\n",
       "    <tr>\n",
       "      <th>40299</th>\n",
       "      <td>UN-b1g5Cc6</td>\n",
       "      <td>I8wMgh</td>\n",
       "      <td>2022-07-31</td>\n",
       "      <td>Anonymus User</td>\n",
       "      <td>33.0</td>\n",
       "      <td>[{\"tag_id\": \"8tqGr8\", \"tag_name\": \"warisan bud...</td>\n",
       "      <td>39jY83</td>\n",
       "      <td>Wisata dan Kuliner</td>\n",
       "    </tr>\n",
       "    <tr>\n",
       "      <th>40300</th>\n",
       "      <td>UN-b1g5Cc6</td>\n",
       "      <td>6Y46LM</td>\n",
       "      <td>2022-07-31</td>\n",
       "      <td>Anonymus User</td>\n",
       "      <td>33.0</td>\n",
       "      <td>[{\"tag_id\": \"RSBfEb\", \"tag_name\": \"yogyakarta\"...</td>\n",
       "      <td>39jY82</td>\n",
       "      <td>Wisata dan Kuliner</td>\n",
       "    </tr>\n",
       "    <tr>\n",
       "      <th>40301</th>\n",
       "      <td>UN-b1g5Cc6</td>\n",
       "      <td>mrKprO</td>\n",
       "      <td>2022-07-31</td>\n",
       "      <td>Anonymus User</td>\n",
       "      <td>33.0</td>\n",
       "      <td>[{\"tag_id\": \"nxgWCm\", \"tag_name\": \"bantul\", \"t...</td>\n",
       "      <td>39jZ26</td>\n",
       "      <td>Wisata dan Kuliner</td>\n",
       "    </tr>\n",
       "    <tr>\n",
       "      <th>40303</th>\n",
       "      <td>UN-b1g5Cc6</td>\n",
       "      <td>zBIsZ2</td>\n",
       "      <td>2022-07-31</td>\n",
       "      <td>Anonymus User</td>\n",
       "      <td>33.0</td>\n",
       "      <td>[{\"tag_id\": \"pUrs9w\", \"tag_name\": \"jet-tempur-...</td>\n",
       "      <td>39jY82</td>\n",
       "      <td>Wisata dan Kuliner</td>\n",
       "    </tr>\n",
       "    <tr>\n",
       "      <th>231091</th>\n",
       "      <td>UN-b1g5Cc6</td>\n",
       "      <td>pc0IE4</td>\n",
       "      <td>2022-07-31</td>\n",
       "      <td>Anonymus User</td>\n",
       "      <td>22.0</td>\n",
       "      <td>[{\"tag_id\": \"kV7rLC\", \"tag_name\": \"artis-gante...</td>\n",
       "      <td>39jZ33</td>\n",
       "      <td>Gaya Hidup</td>\n",
       "    </tr>\n",
       "    <tr>\n",
       "      <th>231095</th>\n",
       "      <td>UN-b1g5Cc6</td>\n",
       "      <td>pc0IE4</td>\n",
       "      <td>2022-07-31</td>\n",
       "      <td>Anonymus User</td>\n",
       "      <td>22.0</td>\n",
       "      <td>[{\"tag_id\": \"kV7rLC\", \"tag_name\": \"artis-gante...</td>\n",
       "      <td>39jZ33</td>\n",
       "      <td>Gaya Hidup</td>\n",
       "    </tr>\n",
       "    <tr>\n",
       "      <th>231096</th>\n",
       "      <td>UN-b1g5Cc6</td>\n",
       "      <td>pc0IE4</td>\n",
       "      <td>2022-07-31</td>\n",
       "      <td>Anonymus User</td>\n",
       "      <td>22.0</td>\n",
       "      <td>[{\"tag_id\": \"kV7rLC\", \"tag_name\": \"artis-gante...</td>\n",
       "      <td>39jZ33</td>\n",
       "      <td>Gaya Hidup</td>\n",
       "    </tr>\n",
       "    <tr>\n",
       "      <th>231107</th>\n",
       "      <td>UN-b1g5Cc6</td>\n",
       "      <td>o9ZylK</td>\n",
       "      <td>2022-07-31</td>\n",
       "      <td>Anonymus User</td>\n",
       "      <td>22.0</td>\n",
       "      <td>[{\"tag_id\": \"zDtItn\", \"tag_name\": \"artis-tampa...</td>\n",
       "      <td>39jZ37</td>\n",
       "      <td>Gaya Hidup</td>\n",
       "    </tr>\n",
       "    <tr>\n",
       "      <th>231108</th>\n",
       "      <td>UN-b1g5Cc6</td>\n",
       "      <td>UdXzOC</td>\n",
       "      <td>2022-07-31</td>\n",
       "      <td>Anonymus User</td>\n",
       "      <td>22.0</td>\n",
       "      <td>[{\"tag_id\": \"YFXUx9\", \"tag_name\": \"artis-indon...</td>\n",
       "      <td>39jY82</td>\n",
       "      <td>Gaya Hidup</td>\n",
       "    </tr>\n",
       "    <tr>\n",
       "      <th>231110</th>\n",
       "      <td>UN-b1g5Cc6</td>\n",
       "      <td>rGK1yz</td>\n",
       "      <td>2022-07-31</td>\n",
       "      <td>Anonymus User</td>\n",
       "      <td>22.0</td>\n",
       "      <td>[{\"tag_id\": \"A6JcgN\", \"tag_name\": \"sarinah\", \"...</td>\n",
       "      <td>39jY90</td>\n",
       "      <td>Gaya Hidup</td>\n",
       "    </tr>\n",
       "    <tr>\n",
       "      <th>245980</th>\n",
       "      <td>UN-b1g5Cc6</td>\n",
       "      <td>ogkOt3</td>\n",
       "      <td>2022-08-13</td>\n",
       "      <td>Anonymus User</td>\n",
       "      <td>22.0</td>\n",
       "      <td>[{\"tag_id\": \"vO1B1r\", \"tag_name\": \"perhiasan\",...</td>\n",
       "      <td>39as83</td>\n",
       "      <td>Gaya Hidup</td>\n",
       "    </tr>\n",
       "    <tr>\n",
       "      <th>326242</th>\n",
       "      <td>UN-b1g5Cc6</td>\n",
       "      <td>S6nuOA</td>\n",
       "      <td>2022-07-31</td>\n",
       "      <td>Anonymus User</td>\n",
       "      <td>34.0</td>\n",
       "      <td>[{\"tag_id\": \"xD7PhI\", \"tag_name\": \"kota-pengha...</td>\n",
       "      <td>39jZ33</td>\n",
       "      <td>Politik &amp; Peristiwa</td>\n",
       "    </tr>\n",
       "  </tbody>\n",
       "</table>\n",
       "</div>"
      ],
      "text/plain": [
       "        viewers_id content_id hit_timestamp      user_type  category_id  \\\n",
       "2       UN-b1g5Cc6     EsWkCd    2022-07-31  Anonymus User         23.0   \n",
       "3       UN-b1g5Cc6     EsWkCd    2022-07-31  Anonymus User         23.0   \n",
       "8       UN-b1g5Cc6     7pnFpi    2022-07-31  Anonymus User         23.0   \n",
       "40299   UN-b1g5Cc6     I8wMgh    2022-07-31  Anonymus User         33.0   \n",
       "40300   UN-b1g5Cc6     6Y46LM    2022-07-31  Anonymus User         33.0   \n",
       "40301   UN-b1g5Cc6     mrKprO    2022-07-31  Anonymus User         33.0   \n",
       "40303   UN-b1g5Cc6     zBIsZ2    2022-07-31  Anonymus User         33.0   \n",
       "231091  UN-b1g5Cc6     pc0IE4    2022-07-31  Anonymus User         22.0   \n",
       "231095  UN-b1g5Cc6     pc0IE4    2022-07-31  Anonymus User         22.0   \n",
       "231096  UN-b1g5Cc6     pc0IE4    2022-07-31  Anonymus User         22.0   \n",
       "231107  UN-b1g5Cc6     o9ZylK    2022-07-31  Anonymus User         22.0   \n",
       "231108  UN-b1g5Cc6     UdXzOC    2022-07-31  Anonymus User         22.0   \n",
       "231110  UN-b1g5Cc6     rGK1yz    2022-07-31  Anonymus User         22.0   \n",
       "245980  UN-b1g5Cc6     ogkOt3    2022-08-13  Anonymus User         22.0   \n",
       "326242  UN-b1g5Cc6     S6nuOA    2022-07-31  Anonymus User         34.0   \n",
       "\n",
       "                                                  tagging creator_id  \\\n",
       "2       [{\"tag_id\": \"Tw9Th4\", \"tag_name\": \"deddy-corbu...     99jY83   \n",
       "3       [{\"tag_id\": \"Tw9Th4\", \"tag_name\": \"deddy-corbu...     99jY83   \n",
       "8       [{\"tag_id\": \"A7hdu3\", \"tag_name\": \"artis-indon...     39jZ33   \n",
       "40299   [{\"tag_id\": \"8tqGr8\", \"tag_name\": \"warisan bud...     39jY83   \n",
       "40300   [{\"tag_id\": \"RSBfEb\", \"tag_name\": \"yogyakarta\"...     39jY82   \n",
       "40301   [{\"tag_id\": \"nxgWCm\", \"tag_name\": \"bantul\", \"t...     39jZ26   \n",
       "40303   [{\"tag_id\": \"pUrs9w\", \"tag_name\": \"jet-tempur-...     39jY82   \n",
       "231091  [{\"tag_id\": \"kV7rLC\", \"tag_name\": \"artis-gante...     39jZ33   \n",
       "231095  [{\"tag_id\": \"kV7rLC\", \"tag_name\": \"artis-gante...     39jZ33   \n",
       "231096  [{\"tag_id\": \"kV7rLC\", \"tag_name\": \"artis-gante...     39jZ33   \n",
       "231107  [{\"tag_id\": \"zDtItn\", \"tag_name\": \"artis-tampa...     39jZ37   \n",
       "231108  [{\"tag_id\": \"YFXUx9\", \"tag_name\": \"artis-indon...     39jY82   \n",
       "231110  [{\"tag_id\": \"A6JcgN\", \"tag_name\": \"sarinah\", \"...     39jY90   \n",
       "245980  [{\"tag_id\": \"vO1B1r\", \"tag_name\": \"perhiasan\",...     39as83   \n",
       "326242  [{\"tag_id\": \"xD7PhI\", \"tag_name\": \"kota-pengha...     39jZ33   \n",
       "\n",
       "              category_name  \n",
       "2                   Hiburan  \n",
       "3                   Hiburan  \n",
       "8                   Hiburan  \n",
       "40299    Wisata dan Kuliner  \n",
       "40300    Wisata dan Kuliner  \n",
       "40301    Wisata dan Kuliner  \n",
       "40303    Wisata dan Kuliner  \n",
       "231091           Gaya Hidup  \n",
       "231095           Gaya Hidup  \n",
       "231096           Gaya Hidup  \n",
       "231107           Gaya Hidup  \n",
       "231108           Gaya Hidup  \n",
       "231110           Gaya Hidup  \n",
       "245980           Gaya Hidup  \n",
       "326242  Politik & Peristiwa  "
      ]
     },
     "execution_count": 12,
     "metadata": {},
     "output_type": "execute_result"
    }
   ],
   "source": [
    "df_new[df_new['viewers_id'] == 'UN-b1g5Cc6']"
   ]
  },
  {
   "cell_type": "markdown",
   "metadata": {},
   "source": [
    "5.9 Further checking duplicated data after dropping unnecessary columns\n",
    "- Here we check the duplicated data again after dropping some unnecessary columns in step 5.6.\n",
    "- Now we can located there are 451,854 duplicated rows."
   ]
  },
  {
   "cell_type": "code",
   "execution_count": 13,
   "metadata": {},
   "outputs": [
    {
     "data": {
      "text/plain": [
       "451854"
      ]
     },
     "execution_count": 13,
     "metadata": {},
     "output_type": "execute_result"
    }
   ],
   "source": [
    "df_new.duplicated().sum()"
   ]
  },
  {
   "cell_type": "markdown",
   "metadata": {},
   "source": [
    "5.10 Dropping duplicated columns"
   ]
  },
  {
   "cell_type": "code",
   "execution_count": 14,
   "metadata": {},
   "outputs": [
    {
     "data": {
      "text/plain": [
       "0"
      ]
     },
     "execution_count": 14,
     "metadata": {},
     "output_type": "execute_result"
    }
   ],
   "source": [
    "df_new.drop_duplicates(inplace=True)\n",
    "df_new.duplicated().sum()"
   ]
  },
  {
   "cell_type": "markdown",
   "metadata": {},
   "source": [
    "5.11 Checking the current shape of the data\n",
    "- Now we have 468421 rows and, 8 columns."
   ]
  },
  {
   "cell_type": "code",
   "execution_count": 15,
   "metadata": {},
   "outputs": [
    {
     "data": {
      "text/plain": [
       "(468421, 8)"
      ]
     },
     "execution_count": 15,
     "metadata": {},
     "output_type": "execute_result"
    }
   ],
   "source": [
    "df_new.shape"
   ]
  },
  {
   "cell_type": "markdown",
   "metadata": {},
   "source": [
    "5.12 Iterating tagging column to get tag name\n",
    "- The tagging column is the metadata from MNC viewers information.\n",
    "- So, in order to get the tag name, we need to iterate the columns.\n",
    "- Here we got 468421 tag name, the same with length of the dataframe."
   ]
  },
  {
   "cell_type": "code",
   "execution_count": 16,
   "metadata": {},
   "outputs": [
    {
     "data": {
      "text/plain": [
       "468421"
      ]
     },
     "execution_count": 16,
     "metadata": {},
     "output_type": "execute_result"
    }
   ],
   "source": [
    "meta_tagging = df_new['tagging'].str.split(',')\n",
    "\n",
    "list_tagging = []\n",
    "\n",
    "for i in meta_tagging:\n",
    "    list_tagging.append(i[1])\n",
    "\n",
    "final_tagging = [i.split(':', 1)[1] for i in list_tagging]\n",
    "\n",
    "len(final_tagging)"
   ]
  },
  {
   "cell_type": "markdown",
   "metadata": {},
   "source": [
    "5.13 Assigning the tagging name to new column"
   ]
  },
  {
   "cell_type": "code",
   "execution_count": 17,
   "metadata": {},
   "outputs": [
    {
     "data": {
      "text/html": [
       "<div>\n",
       "<style scoped>\n",
       "    .dataframe tbody tr th:only-of-type {\n",
       "        vertical-align: middle;\n",
       "    }\n",
       "\n",
       "    .dataframe tbody tr th {\n",
       "        vertical-align: top;\n",
       "    }\n",
       "\n",
       "    .dataframe thead th {\n",
       "        text-align: right;\n",
       "    }\n",
       "</style>\n",
       "<table border=\"1\" class=\"dataframe\">\n",
       "  <thead>\n",
       "    <tr style=\"text-align: right;\">\n",
       "      <th></th>\n",
       "      <th>viewers_id</th>\n",
       "      <th>content_id</th>\n",
       "      <th>hit_timestamp</th>\n",
       "      <th>user_type</th>\n",
       "      <th>category_id</th>\n",
       "      <th>tagging</th>\n",
       "      <th>creator_id</th>\n",
       "      <th>category_name</th>\n",
       "      <th>new_tagging</th>\n",
       "    </tr>\n",
       "  </thead>\n",
       "  <tbody>\n",
       "    <tr>\n",
       "      <th>0</th>\n",
       "      <td>UN-RY8dNmQ</td>\n",
       "      <td>OC0RuX</td>\n",
       "      <td>2022-07-30</td>\n",
       "      <td>Anonymus User</td>\n",
       "      <td>23.0</td>\n",
       "      <td>[{\"tag_id\": \"l33saH\", \"tag_name\": \"nathalie-ho...</td>\n",
       "      <td>99jY83</td>\n",
       "      <td>Hiburan</td>\n",
       "      <td>nathalie-holscher</td>\n",
       "    </tr>\n",
       "    <tr>\n",
       "      <th>2</th>\n",
       "      <td>UN-b1g5Cc6</td>\n",
       "      <td>EsWkCd</td>\n",
       "      <td>2022-07-31</td>\n",
       "      <td>Anonymus User</td>\n",
       "      <td>23.0</td>\n",
       "      <td>[{\"tag_id\": \"Tw9Th4\", \"tag_name\": \"deddy-corbu...</td>\n",
       "      <td>99jY83</td>\n",
       "      <td>Hiburan</td>\n",
       "      <td>deddy-corbuzier</td>\n",
       "    </tr>\n",
       "    <tr>\n",
       "      <th>4</th>\n",
       "      <td>UN-kNqX0xJ</td>\n",
       "      <td>WMKZwi</td>\n",
       "      <td>2022-07-31</td>\n",
       "      <td>Anonymus User</td>\n",
       "      <td>23.0</td>\n",
       "      <td>[{\"tag_id\": \"MSDG2f\", \"tag_name\": \"valencia-ta...</td>\n",
       "      <td>99jY83</td>\n",
       "      <td>Hiburan</td>\n",
       "      <td>valencia-tanoesoedibjo</td>\n",
       "    </tr>\n",
       "    <tr>\n",
       "      <th>5</th>\n",
       "      <td>UN-aT1jBga</td>\n",
       "      <td>WMKZwi</td>\n",
       "      <td>2022-08-13</td>\n",
       "      <td>Anonymus User</td>\n",
       "      <td>23.0</td>\n",
       "      <td>[{\"tag_id\": \"MSDG2f\", \"tag_name\": \"valencia-ta...</td>\n",
       "      <td>99jY83</td>\n",
       "      <td>Hiburan</td>\n",
       "      <td>valencia-tanoesoedibjo</td>\n",
       "    </tr>\n",
       "    <tr>\n",
       "      <th>6</th>\n",
       "      <td>UN-kNqX0xJ</td>\n",
       "      <td>gtFp7N</td>\n",
       "      <td>2022-07-31</td>\n",
       "      <td>Anonymus User</td>\n",
       "      <td>23.0</td>\n",
       "      <td>[{\"tag_id\": \"rQn4Gq\", \"tag_name\": \"raffi-ahmad...</td>\n",
       "      <td>99jY83</td>\n",
       "      <td>Hiburan</td>\n",
       "      <td>raffi-ahmad</td>\n",
       "    </tr>\n",
       "  </tbody>\n",
       "</table>\n",
       "</div>"
      ],
      "text/plain": [
       "   viewers_id content_id hit_timestamp      user_type  category_id  \\\n",
       "0  UN-RY8dNmQ     OC0RuX    2022-07-30  Anonymus User         23.0   \n",
       "2  UN-b1g5Cc6     EsWkCd    2022-07-31  Anonymus User         23.0   \n",
       "4  UN-kNqX0xJ     WMKZwi    2022-07-31  Anonymus User         23.0   \n",
       "5  UN-aT1jBga     WMKZwi    2022-08-13  Anonymus User         23.0   \n",
       "6  UN-kNqX0xJ     gtFp7N    2022-07-31  Anonymus User         23.0   \n",
       "\n",
       "                                             tagging creator_id category_name  \\\n",
       "0  [{\"tag_id\": \"l33saH\", \"tag_name\": \"nathalie-ho...     99jY83       Hiburan   \n",
       "2  [{\"tag_id\": \"Tw9Th4\", \"tag_name\": \"deddy-corbu...     99jY83       Hiburan   \n",
       "4  [{\"tag_id\": \"MSDG2f\", \"tag_name\": \"valencia-ta...     99jY83       Hiburan   \n",
       "5  [{\"tag_id\": \"MSDG2f\", \"tag_name\": \"valencia-ta...     99jY83       Hiburan   \n",
       "6  [{\"tag_id\": \"rQn4Gq\", \"tag_name\": \"raffi-ahmad...     99jY83       Hiburan   \n",
       "\n",
       "               new_tagging  \n",
       "0        nathalie-holscher  \n",
       "2          deddy-corbuzier  \n",
       "4   valencia-tanoesoedibjo  \n",
       "5   valencia-tanoesoedibjo  \n",
       "6              raffi-ahmad  "
      ]
     },
     "execution_count": 17,
     "metadata": {},
     "output_type": "execute_result"
    }
   ],
   "source": [
    "df_new['new_tagging'] = final_tagging\n",
    "df_new['new_tagging'] = df_new['new_tagging'].str.replace('\"', '')\n",
    "df_new.head()"
   ]
  },
  {
   "cell_type": "markdown",
   "metadata": {},
   "source": [
    "5.14 Data Distributin in Category Name\n",
    "- Olahraga column have the most values than others, followed by Politik & Peristiwa."
   ]
  },
  {
   "cell_type": "code",
   "execution_count": 18,
   "metadata": {},
   "outputs": [
    {
     "data": {
      "image/png": "[encoded data removed]",
      "text/plain": [
       "<Figure size 720x576 with 1 Axes>"
      ]
     },
     "metadata": {
      "needs_background": "light"
     },
     "output_type": "display_data"
    }
   ],
   "source": [
    "fig, ax = plt.subplots(figsize=(10, 8))\n",
    "\n",
    "sns.countplot(data=df_new, x='category_name', palette='rocket')\n",
    "ax.tick_params(axis='x', labelrotation=90)"
   ]
  },
  {
   "cell_type": "markdown",
   "metadata": {},
   "source": [
    "5.15 Data Distributin in Timestamp\n",
    "- It seems that this column is when the data generated.\n",
    "- There is not much information we can get in this column, so later we can exclude this column."
   ]
  },
  {
   "cell_type": "code",
   "execution_count": 19,
   "metadata": {},
   "outputs": [
    {
     "data": {
      "image/png": "[encoded data removed]",
      "text/plain": [
       "<Figure size 720x576 with 1 Axes>"
      ]
     },
     "metadata": {
      "needs_background": "light"
     },
     "output_type": "display_data"
    }
   ],
   "source": [
    "fig, ax = plt.subplots(figsize=(10, 8))\n",
    "\n",
    "sns.countplot(data=df_new, x='hit_timestamp', palette='rocket')\n",
    "ax.tick_params(axis='x', labelrotation=90)"
   ]
  },
  {
   "cell_type": "markdown",
   "metadata": {},
   "source": [
    "___"
   ]
  },
  {
   "cell_type": "markdown",
   "metadata": {},
   "source": [
    "## 6. FEATURE ENGINEERING & FEATURE SELECTION "
   ]
  },
  {
   "cell_type": "markdown",
   "metadata": {},
   "source": [
    "6.1 Selecting necessary columns for features\n",
    "- Here I just include these 4 columns as features for this project.\n",
    "- As you may see, all the features are categories column."
   ]
  },
  {
   "cell_type": "code",
   "execution_count": 20,
   "metadata": {},
   "outputs": [
    {
     "data": {
      "text/html": [
       "<div>\n",
       "<style scoped>\n",
       "    .dataframe tbody tr th:only-of-type {\n",
       "        vertical-align: middle;\n",
       "    }\n",
       "\n",
       "    .dataframe tbody tr th {\n",
       "        vertical-align: top;\n",
       "    }\n",
       "\n",
       "    .dataframe thead th {\n",
       "        text-align: right;\n",
       "    }\n",
       "</style>\n",
       "<table border=\"1\" class=\"dataframe\">\n",
       "  <thead>\n",
       "    <tr style=\"text-align: right;\">\n",
       "      <th></th>\n",
       "      <th>content_id</th>\n",
       "      <th>creator_id</th>\n",
       "      <th>category_name</th>\n",
       "      <th>new_tagging</th>\n",
       "    </tr>\n",
       "  </thead>\n",
       "  <tbody>\n",
       "    <tr>\n",
       "      <th>0</th>\n",
       "      <td>OC0RuX</td>\n",
       "      <td>99jY83</td>\n",
       "      <td>Hiburan</td>\n",
       "      <td>nathalie-holscher</td>\n",
       "    </tr>\n",
       "    <tr>\n",
       "      <th>2</th>\n",
       "      <td>EsWkCd</td>\n",
       "      <td>99jY83</td>\n",
       "      <td>Hiburan</td>\n",
       "      <td>deddy-corbuzier</td>\n",
       "    </tr>\n",
       "    <tr>\n",
       "      <th>4</th>\n",
       "      <td>WMKZwi</td>\n",
       "      <td>99jY83</td>\n",
       "      <td>Hiburan</td>\n",
       "      <td>valencia-tanoesoedibjo</td>\n",
       "    </tr>\n",
       "    <tr>\n",
       "      <th>5</th>\n",
       "      <td>WMKZwi</td>\n",
       "      <td>99jY83</td>\n",
       "      <td>Hiburan</td>\n",
       "      <td>valencia-tanoesoedibjo</td>\n",
       "    </tr>\n",
       "    <tr>\n",
       "      <th>6</th>\n",
       "      <td>gtFp7N</td>\n",
       "      <td>99jY83</td>\n",
       "      <td>Hiburan</td>\n",
       "      <td>raffi-ahmad</td>\n",
       "    </tr>\n",
       "  </tbody>\n",
       "</table>\n",
       "</div>"
      ],
      "text/plain": [
       "  content_id creator_id category_name              new_tagging\n",
       "0     OC0RuX     99jY83       Hiburan        nathalie-holscher\n",
       "2     EsWkCd     99jY83       Hiburan          deddy-corbuzier\n",
       "4     WMKZwi     99jY83       Hiburan   valencia-tanoesoedibjo\n",
       "5     WMKZwi     99jY83       Hiburan   valencia-tanoesoedibjo\n",
       "6     gtFp7N     99jY83       Hiburan              raffi-ahmad"
      ]
     },
     "execution_count": 20,
     "metadata": {},
     "output_type": "execute_result"
    }
   ],
   "source": [
    "df_final_2 = df_new[['content_id', 'creator_id', 'category_name', 'new_tagging']]\n",
    "df_final_2.head()"
   ]
  },
  {
   "cell_type": "markdown",
   "metadata": {},
   "source": [
    "6.2 Convert column type\n",
    "- To reduce memory, we need to convert the type of the columns. So, the cell can run faster."
   ]
  },
  {
   "cell_type": "code",
   "execution_count": 21,
   "metadata": {},
   "outputs": [
    {
     "name": "stdout",
     "output_type": "stream",
     "text": [
      "<class 'pandas.core.frame.DataFrame'>\n",
      "Int64Index: 468421 entries, 0 to 958545\n",
      "Data columns (total 4 columns):\n",
      " #   Column         Non-Null Count   Dtype   \n",
      "---  ------         --------------   -----   \n",
      " 0   content_id     468421 non-null  category\n",
      " 1   creator_id     468421 non-null  category\n",
      " 2   category_name  468421 non-null  category\n",
      " 3   new_tagging    468421 non-null  category\n",
      "dtypes: category(4)\n",
      "memory usage: 7.7 MB\n"
     ]
    },
    {
     "name": "stderr",
     "output_type": "stream",
     "text": [
      "/var/folders/_d/0tjpkpcd0wg39zfsbnkxzgt40000gp/T/ipykernel_3642/1771443353.py:1: SettingWithCopyWarning: \n",
      "A value is trying to be set on a copy of a slice from a DataFrame.\n",
      "Try using .loc[row_indexer,col_indexer] = value instead\n",
      "\n",
      "See the caveats in the documentation: https://pandas.pydata.org/pandas-docs/stable/user_guide/indexing.html#returning-a-view-versus-a-copy\n",
      "  df_final_2['content_id'] = df_final_2['content_id'].astype('category')\n",
      "/var/folders/_d/0tjpkpcd0wg39zfsbnkxzgt40000gp/T/ipykernel_3642/1771443353.py:2: SettingWithCopyWarning: \n",
      "A value is trying to be set on a copy of a slice from a DataFrame.\n",
      "Try using .loc[row_indexer,col_indexer] = value instead\n",
      "\n",
      "See the caveats in the documentation: https://pandas.pydata.org/pandas-docs/stable/user_guide/indexing.html#returning-a-view-versus-a-copy\n",
      "  df_final_2['creator_id'] = df_final_2['creator_id'].astype('category')\n",
      "/var/folders/_d/0tjpkpcd0wg39zfsbnkxzgt40000gp/T/ipykernel_3642/1771443353.py:3: SettingWithCopyWarning: \n",
      "A value is trying to be set on a copy of a slice from a DataFrame.\n",
      "Try using .loc[row_indexer,col_indexer] = value instead\n",
      "\n",
      "See the caveats in the documentation: https://pandas.pydata.org/pandas-docs/stable/user_guide/indexing.html#returning-a-view-versus-a-copy\n",
      "  df_final_2['category_name'] = df_final_2['category_name'].astype('category')\n",
      "/var/folders/_d/0tjpkpcd0wg39zfsbnkxzgt40000gp/T/ipykernel_3642/1771443353.py:4: SettingWithCopyWarning: \n",
      "A value is trying to be set on a copy of a slice from a DataFrame.\n",
      "Try using .loc[row_indexer,col_indexer] = value instead\n",
      "\n",
      "See the caveats in the documentation: https://pandas.pydata.org/pandas-docs/stable/user_guide/indexing.html#returning-a-view-versus-a-copy\n",
      "  df_final_2['new_tagging'] = df_final_2['new_tagging'].astype('category')\n"
     ]
    }
   ],
   "source": [
    "df_final_2['content_id'] = df_final_2['content_id'].astype('category')\n",
    "df_final_2['creator_id'] = df_final_2['creator_id'].astype('category')\n",
    "df_final_2['category_name'] = df_final_2['category_name'].astype('category')\n",
    "df_final_2['new_tagging'] = df_final_2['new_tagging'].astype('category')\n",
    "\n",
    "df_final_2.info()"
   ]
  },
  {
   "cell_type": "markdown",
   "metadata": {},
   "source": [
    "6.3 Model Selection\n",
    "- The problem we face a bit unique, since all the features are categories.\n",
    "- To solve customer segmentation with all categories features we can use KModes.\n",
    "- KModes clustering is one of the unsupervised Machine Learning algorithms that is used to cluster categorical variables.\n",
    "- KMeans uses mathematical measures (distance) to cluster continuous data. The lesser the distance, the more similar our data points are. Centroids are updated by Means.\n",
    "- However, for categorical data points, we cannot calculate the distance. So we go for KModes algorithm. It uses the dissimilarities(total mismatches) between the data points. The lesser the dissimilarities the more similar our data points are. It uses Modes instead of means."
   ]
  },
  {
   "cell_type": "markdown",
   "metadata": {},
   "source": [
    "6.4 Finding Optimal Number of Cluster\n",
    "- For KModes, plot cost for a range of K values. Cost is the sum of all the dissimilarities between the clusters.\n",
    "- We need to select the K where we observe an elbow-like bend with a lesser cost value.\n",
    "- We can see that the line dives down from 1 to 4 clusters.\n",
    "- K=4 maybe have the lowest cost value among 1-4, but to reduce too spesific model author choose to pick K=3."
   ]
  },
  {
   "cell_type": "code",
   "execution_count": 22,
   "metadata": {},
   "outputs": [
    {
     "data": {
      "text/plain": [
       "'\"\\n\\n# Elbow curve to find optimal K\\ncost = []\\nK = range(1,5)\\nfor num_clusters in list(K):\\n    kmode = KModes(n_clusters=num_clusters, init = \"random\", n_init = 5, verbose=1)\\n    kmode.fit_predict(df_final_2)\\n    cost.append(kmode.cost_)\\n    \\nplt.plot(K, cost, \\'bx-\\')\\nplt.xlabel(\\'No. of clusters\\')\\nplt.ylabel(\\'Cost\\')\\nplt.title(\\'Elbow Method For Optimal k\\')\\nplt.show()\\n'"
      ]
     },
     "execution_count": 22,
     "metadata": {},
     "output_type": "execute_result"
    }
   ],
   "source": [
    "\"\"\"\"\n",
    "\n",
    "# Elbow curve to find optimal K\n",
    "cost = []\n",
    "K = range(1,5)\n",
    "for num_clusters in list(K):\n",
    "    kmode = KModes(n_clusters=num_clusters, init = \"random\", n_init = 5, verbose=1)\n",
    "    kmode.fit_predict(df_final_2)\n",
    "    cost.append(kmode.cost_)\n",
    "    \n",
    "plt.plot(K, cost, 'bx-')\n",
    "plt.xlabel('No. of clusters')\n",
    "plt.ylabel('Cost')\n",
    "plt.title('Elbow Method For Optimal k')\n",
    "plt.show()\n",
    "\"\"\""
   ]
  },
  {
   "cell_type": "markdown",
   "metadata": {},
   "source": [
    "## 7. MODEL DEFINITION "
   ]
  },
  {
   "cell_type": "markdown",
   "metadata": {},
   "source": [
    "7.1 Define Model\n",
    "- Define KModes model with 3 clusters.\n",
    "- Fit the model with the data and predict the cluster based in the data fitted."
   ]
  },
  {
   "cell_type": "code",
   "execution_count": 23,
   "metadata": {},
   "outputs": [
    {
     "name": "stdout",
     "output_type": "stream",
     "text": [
      "Init: initializing centroids\n",
      "Init: initializing clusters\n",
      "Starting iterations...\n",
      "Run 1, iteration: 1/100, moves: 7203, cost: 1478893.0\n",
      "Init: initializing centroids\n",
      "Init: initializing clusters\n",
      "Starting iterations...\n",
      "Run 2, iteration: 1/100, moves: 947, cost: 1485455.0\n",
      "Init: initializing centroids\n",
      "Init: initializing clusters\n",
      "Starting iterations...\n",
      "Run 3, iteration: 1/100, moves: 22695, cost: 1471597.0\n",
      "Init: initializing centroids\n",
      "Init: initializing clusters\n",
      "Starting iterations...\n",
      "Run 4, iteration: 1/100, moves: 11669, cost: 1528674.0\n",
      "Init: initializing centroids\n",
      "Init: initializing clusters\n",
      "Starting iterations...\n",
      "Run 5, iteration: 1/100, moves: 52487, cost: 1487121.0\n",
      "Run 5, iteration: 2/100, moves: 9540, cost: 1486101.0\n",
      "Run 5, iteration: 3/100, moves: 0, cost: 1486101.0\n",
      "Best run was number 3\n"
     ]
    },
    {
     "data": {
      "text/plain": [
       "array([0, 0, 0, ..., 0, 0, 0], dtype=uint16)"
      ]
     },
     "execution_count": 23,
     "metadata": {},
     "output_type": "execute_result"
    }
   ],
   "source": [
    "#Building the model with 3 clusters\n",
    "kmode = KModes(n_clusters=3, init = \"random\", n_init = 5, verbose=1, random_state=2282)\n",
    "clusters = kmode.fit_predict(df_final_2)\n",
    "clusters"
   ]
  },
  {
   "cell_type": "markdown",
   "metadata": {},
   "source": [
    "___"
   ]
  },
  {
   "cell_type": "markdown",
   "metadata": {},
   "source": [
    "## 8. EXPLORATORY DATA ANALYS AS MODEL EVALUATION"
   ]
  },
  {
   "cell_type": "markdown",
   "metadata": {},
   "source": [
    "8.1 Assign cluster to respective rows"
   ]
  },
  {
   "cell_type": "code",
   "execution_count": 24,
   "metadata": {},
   "outputs": [
    {
     "data": {
      "text/html": [
       "<div>\n",
       "<style scoped>\n",
       "    .dataframe tbody tr th:only-of-type {\n",
       "        vertical-align: middle;\n",
       "    }\n",
       "\n",
       "    .dataframe tbody tr th {\n",
       "        vertical-align: top;\n",
       "    }\n",
       "\n",
       "    .dataframe thead th {\n",
       "        text-align: right;\n",
       "    }\n",
       "</style>\n",
       "<table border=\"1\" class=\"dataframe\">\n",
       "  <thead>\n",
       "    <tr style=\"text-align: right;\">\n",
       "      <th></th>\n",
       "      <th>Cluster</th>\n",
       "      <th>content_id</th>\n",
       "      <th>creator_id</th>\n",
       "      <th>category_name</th>\n",
       "      <th>new_tagging</th>\n",
       "    </tr>\n",
       "  </thead>\n",
       "  <tbody>\n",
       "    <tr>\n",
       "      <th>0</th>\n",
       "      <td>0</td>\n",
       "      <td>OC0RuX</td>\n",
       "      <td>99jY83</td>\n",
       "      <td>Hiburan</td>\n",
       "      <td>nathalie-holscher</td>\n",
       "    </tr>\n",
       "    <tr>\n",
       "      <th>2</th>\n",
       "      <td>0</td>\n",
       "      <td>EsWkCd</td>\n",
       "      <td>99jY83</td>\n",
       "      <td>Hiburan</td>\n",
       "      <td>deddy-corbuzier</td>\n",
       "    </tr>\n",
       "    <tr>\n",
       "      <th>4</th>\n",
       "      <td>0</td>\n",
       "      <td>WMKZwi</td>\n",
       "      <td>99jY83</td>\n",
       "      <td>Hiburan</td>\n",
       "      <td>valencia-tanoesoedibjo</td>\n",
       "    </tr>\n",
       "    <tr>\n",
       "      <th>5</th>\n",
       "      <td>0</td>\n",
       "      <td>WMKZwi</td>\n",
       "      <td>99jY83</td>\n",
       "      <td>Hiburan</td>\n",
       "      <td>valencia-tanoesoedibjo</td>\n",
       "    </tr>\n",
       "    <tr>\n",
       "      <th>6</th>\n",
       "      <td>0</td>\n",
       "      <td>gtFp7N</td>\n",
       "      <td>99jY83</td>\n",
       "      <td>Hiburan</td>\n",
       "      <td>raffi-ahmad</td>\n",
       "    </tr>\n",
       "  </tbody>\n",
       "</table>\n",
       "</div>"
      ],
      "text/plain": [
       "   Cluster content_id creator_id category_name              new_tagging\n",
       "0        0     OC0RuX     99jY83       Hiburan        nathalie-holscher\n",
       "2        0     EsWkCd     99jY83       Hiburan          deddy-corbuzier\n",
       "4        0     WMKZwi     99jY83       Hiburan   valencia-tanoesoedibjo\n",
       "5        0     WMKZwi     99jY83       Hiburan   valencia-tanoesoedibjo\n",
       "6        0     gtFp7N     99jY83       Hiburan              raffi-ahmad"
      ]
     },
     "execution_count": 24,
     "metadata": {},
     "output_type": "execute_result"
    }
   ],
   "source": [
    "df_final_2.insert(0, \"Cluster\", clusters, True)\n",
    "df_final_2.head()"
   ]
  },
  {
   "cell_type": "code",
   "execution_count": 25,
   "metadata": {},
   "outputs": [],
   "source": [
    "#df_final_2 = df_final_2.drop(df_final_2.columns[[1,2]],axis = 1)\n",
    "#df_final_2.head()"
   ]
  },
  {
   "cell_type": "markdown",
   "metadata": {},
   "source": [
    "8.2 Cluster Member Counts\n",
    "- Cluster 0 have the highest values, followed by cluster 1."
   ]
  },
  {
   "cell_type": "code",
   "execution_count": 26,
   "metadata": {},
   "outputs": [
    {
     "data": {
      "text/plain": [
       "0    280349\n",
       "1    163703\n",
       "2     24369\n",
       "Name: Cluster, dtype: int64"
      ]
     },
     "execution_count": 26,
     "metadata": {},
     "output_type": "execute_result"
    }
   ],
   "source": [
    "df_final_2.Cluster.value_counts()"
   ]
  },
  {
   "cell_type": "markdown",
   "metadata": {},
   "source": [
    "8.3 Cluster Distribution based in Category\n",
    "- Cluster 0 : Have the highest values. Majority the viewers from 'Politik & Peristiwa', followed by 'Musik dan Film', and 'Gaya Hidup'. The amount viewers for other category is graduelly decreasing.\n",
    "- Cluster 1 : Have the second highest values. Majority viewers from 'Teknologi', followerd by 'Kebijakan Publik' and 'Gaya Hidup'. The amount viewers for other category is graduelly decreasing.\n",
    "- Cluster 2 : Have the least values than other clusters. Majority viewers from Olahraga. The difference from other viewers are so significant, this is the unique charateristic from this cluster."
   ]
  },
  {
   "cell_type": "code",
   "execution_count": 27,
   "metadata": {},
   "outputs": [
    {
     "data": {
      "image/png": "[encoded data removed]",
      "text/plain": [
       "<Figure size 1296x504 with 1 Axes>"
      ]
     },
     "metadata": {
      "needs_background": "light"
     },
     "output_type": "display_data"
    }
   ],
   "source": [
    "df_by_cluster = df_final_2.groupby('Cluster')['category_name'].value_counts().plot.bar(figsize=(18, 7))"
   ]
  },
  {
   "cell_type": "markdown",
   "metadata": {},
   "source": [
    "_____"
   ]
  },
  {
   "cell_type": "markdown",
   "metadata": {},
   "source": [
    "## 9. CONCLUSION & IDEAS"
   ]
  },
  {
   "cell_type": "markdown",
   "metadata": {},
   "source": [
    "9.1 Technical Conclusion\n",
    "- In this unique problem that the data have all categories features with can use KModes to cluster the viewers.\n",
    "- The number of cluster in this project is 3, after taking the cost values into consideration.\n",
    "- Cluster 0 are the cluster with viewers that focus in Olahraga in majority, followed with they who want to watch 'Politik & Peristiwa' & listening to music. This cluster also has several viewers with the Humours category in the least values. It seems that the viewers from this cluster have customers from every category with somewhat balanced viewers compared to other clusters. The viewers from this cluster also seem to be the regular customer of the television that watching the TV on their daily basis.\n",
    "- Cluster 1 are the cluster with viewers focus on Technology in majority followed by they who want to see 'Politik & Peristiwa', 'public policy', 'life syle' & 'business and finance'. The cluster viewers may not use TV as many as cluster 0 or maybe do not have viewers as many as cluster 0, but it seems that they look something more specific or make use of TV with specific purposes as we can see that they have technology, public policy and business & finance as its top 5 viewers.\n",
    "- Cluster 2 are even more specific. The major viewers are they who wacthing Automotive. The others categories have significant differences, if we compared how other viewers in other clusters apart from their majority viewers. The viewers from this cluster seem to watch TV only to stay updated to the news in the sports only."
   ]
  },
  {
   "cell_type": "markdown",
   "metadata": {},
   "source": [
    "9.2 Business Ideas & Suggestions\n",
    "- Suppose we will have new programs, the programs that are segmented for cluster 0 and cluster 1 are likely to more valuable and promising.\n",
    "- Suppose we are confused to make which programs first into development, we may take the consideration based on the sequence of respective cluster(ex:'Sports' then 'Politics' for Cluster 0, Technology then Public Policy for Cluster 1 and so on).\n",
    "- François Chollet, a software engineer & Keras author, once said that the data is more important then the model. If we have good data, then we can make good predictive model as well. Which allows to generate better business ideas. Fort further improvement, we may need to build or add new information like time of spesific category program will be aired, so we can analyze which kind of program is better to make and when it's better to be aired.\n",
    "- Another data that can be utilized later is about cost production or net profit for specific program or category. Should we have the information, we may be able to predict which kind of programs that are more valuable in term of cost and profit. We also are able to reduce the needless effort by cut the program that need high cost but low profit.\n",
    "\n"
   ]
  }
 ],
 "metadata": {
  "kernelspec": {
   "display_name": "Python 3.9.12 ('base')",
   "language": "python",
   "name": "python3"
  },
  "language_info": {
   "codemirror_mode": {
    "name": "ipython",
    "version": 3
   },
   "file_extension": ".py",
   "mimetype": "text/x-python",
   "name": "python",
   "nbconvert_exporter": "python",
   "pygments_lexer": "ipython3",
   "version": "3.9.12"
  },
  "orig_nbformat": 4,
  "vscode": {
   "interpreter": {
    "hash": "40d3a090f54c6569ab1632332b64b2c03c39dcf918b08424e98f38b5ae0af88f"
   }
  }
 },
 "nbformat": 4,
 "nbformat_minor": 2
}
